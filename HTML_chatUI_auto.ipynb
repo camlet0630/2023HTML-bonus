{
 "cells": [
  {
   "cell_type": "code",
   "execution_count": 1,
   "id": "96872fa6-050a-496b-b3cb-d69af166d2a8",
   "metadata": {},
   "outputs": [
    {
     "name": "stdout",
     "output_type": "stream",
     "text": [
      "Requirement already satisfied: webdriver_manager in c:\\users\\郭瑋 羽\\appdata\\local\\programs\\python\\python311\\lib\\site-packages (4.0.1)\n",
      "Requirement already satisfied: requests in c:\\users\\郭瑋 羽\\appdata\\local\\programs\\python\\python311\\lib\\site-packages (from webdriver_manager) (2.31.0)\n",
      "Requirement already satisfied: python-dotenv in c:\\users\\郭瑋 羽\\appdata\\local\\programs\\python\\python311\\lib\\site-packages (from webdriver_manager) (1.0.0)\n",
      "Requirement already satisfied: packaging in c:\\users\\郭瑋 羽\\appdata\\local\\programs\\python\\python311\\lib\\site-packages (from webdriver_manager) (23.1)\n",
      "Requirement already satisfied: charset-normalizer<4,>=2 in c:\\users\\郭瑋 羽\\appdata\\local\\programs\\python\\python311\\lib\\site-packages (from requests->webdriver_manager) (3.2.0)\n",
      "Requirement already satisfied: idna<4,>=2.5 in c:\\users\\郭瑋 羽\\appdata\\local\\programs\\python\\python311\\lib\\site-packages (from requests->webdriver_manager) (3.4)\n",
      "Requirement already satisfied: urllib3<3,>=1.21.1 in c:\\users\\郭瑋 羽\\appdata\\local\\programs\\python\\python311\\lib\\site-packages (from requests->webdriver_manager) (1.26.18)\n",
      "Requirement already satisfied: certifi>=2017.4.17 in c:\\users\\郭瑋 羽\\appdata\\local\\programs\\python\\python311\\lib\\site-packages (from requests->webdriver_manager) (2023.7.22)\n",
      "Requirement already satisfied: selenium==4.1.0 in c:\\users\\郭瑋 羽\\appdata\\local\\programs\\python\\python311\\lib\\site-packages (4.1.0)\n",
      "Requirement already satisfied: urllib3~=1.26 in c:\\users\\郭瑋 羽\\appdata\\local\\programs\\python\\python311\\lib\\site-packages (from urllib3[secure]~=1.26->selenium==4.1.0) (1.26.18)\n",
      "Requirement already satisfied: trio~=0.17 in c:\\users\\郭瑋 羽\\appdata\\local\\programs\\python\\python311\\lib\\site-packages (from selenium==4.1.0) (0.22.2)\n",
      "Requirement already satisfied: trio-websocket~=0.9 in c:\\users\\郭瑋 羽\\appdata\\local\\programs\\python\\python311\\lib\\site-packages (from selenium==4.1.0) (0.10.4)\n",
      "Requirement already satisfied: attrs>=20.1.0 in c:\\users\\郭瑋 羽\\appdata\\local\\programs\\python\\python311\\lib\\site-packages (from trio~=0.17->selenium==4.1.0) (23.1.0)\n",
      "Requirement already satisfied: sortedcontainers in c:\\users\\郭瑋 羽\\appdata\\local\\programs\\python\\python311\\lib\\site-packages (from trio~=0.17->selenium==4.1.0) (2.4.0)\n",
      "Requirement already satisfied: idna in c:\\users\\郭瑋 羽\\appdata\\local\\programs\\python\\python311\\lib\\site-packages (from trio~=0.17->selenium==4.1.0) (3.4)\n",
      "Requirement already satisfied: outcome in c:\\users\\郭瑋 羽\\appdata\\local\\programs\\python\\python311\\lib\\site-packages (from trio~=0.17->selenium==4.1.0) (1.2.0)\n",
      "Requirement already satisfied: sniffio in c:\\users\\郭瑋 羽\\appdata\\local\\programs\\python\\python311\\lib\\site-packages (from trio~=0.17->selenium==4.1.0) (1.3.0)\n",
      "Requirement already satisfied: cffi>=1.14 in c:\\users\\郭瑋 羽\\appdata\\local\\programs\\python\\python311\\lib\\site-packages (from trio~=0.17->selenium==4.1.0) (1.15.1)\n",
      "Requirement already satisfied: exceptiongroup in c:\\users\\郭瑋 羽\\appdata\\local\\programs\\python\\python311\\lib\\site-packages (from trio-websocket~=0.9->selenium==4.1.0) (1.1.3)\n",
      "Requirement already satisfied: wsproto>=0.14 in c:\\users\\郭瑋 羽\\appdata\\local\\programs\\python\\python311\\lib\\site-packages (from trio-websocket~=0.9->selenium==4.1.0) (1.2.0)\n",
      "Requirement already satisfied: pyOpenSSL>=0.14 in c:\\users\\郭瑋 羽\\appdata\\local\\programs\\python\\python311\\lib\\site-packages (from urllib3[secure]~=1.26->selenium==4.1.0) (23.3.0)\n",
      "Requirement already satisfied: cryptography>=1.3.4 in c:\\users\\郭瑋 羽\\appdata\\local\\programs\\python\\python311\\lib\\site-packages (from urllib3[secure]~=1.26->selenium==4.1.0) (41.0.7)\n",
      "Requirement already satisfied: certifi in c:\\users\\郭瑋 羽\\appdata\\local\\programs\\python\\python311\\lib\\site-packages (from urllib3[secure]~=1.26->selenium==4.1.0) (2023.7.22)\n",
      "Requirement already satisfied: urllib3-secure-extra in c:\\users\\郭瑋 羽\\appdata\\local\\programs\\python\\python311\\lib\\site-packages (from urllib3[secure]~=1.26->selenium==4.1.0) (0.1.0)\n",
      "Requirement already satisfied: pycparser in c:\\users\\郭瑋 羽\\appdata\\local\\programs\\python\\python311\\lib\\site-packages (from cffi>=1.14->trio~=0.17->selenium==4.1.0) (2.21)\n",
      "Requirement already satisfied: h11<1,>=0.9.0 in c:\\users\\郭瑋 羽\\appdata\\local\\programs\\python\\python311\\lib\\site-packages (from wsproto>=0.14->trio-websocket~=0.9->selenium==4.1.0) (0.14.0)\n"
     ]
    }
   ],
   "source": [
    "!pip install webdriver_manager\n",
    "!pip install selenium==4.1.0"
   ]
  },
  {
   "cell_type": "code",
   "execution_count": 2,
   "id": "5e89fe40-5d93-481d-a67e-4099565de3c2",
   "metadata": {},
   "outputs": [
    {
     "name": "stderr",
     "output_type": "stream",
     "text": [
      "C:\\Users\\郭瑋 羽\\AppData\\Local\\Temp\\ipykernel_1888\\4085213599.py:12: DeprecationWarning: executable_path has been deprecated, please pass in a Service object\n",
      "  driver = webdriver.Chrome(ChromeDriverManager().install())\n"
     ]
    }
   ],
   "source": [
    "from selenium import webdriver\n",
    "from webdriver_manager.chrome import ChromeDriverManager\n",
    "from selenium.webdriver.common.keys import Keys\n",
    "from selenium.webdriver.common.by import By\n",
    "from selenium.webdriver.support.ui import WebDriverWait\n",
    "from selenium.webdriver.support import expected_conditions as EC\n",
    "from selenium.webdriver.support.ui import Select\n",
    "\n",
    "\n",
    "# 使用webdriver_manager自动下载和管理chromedriver\n",
    "driver = webdriver.Chrome(ChromeDriverManager().install())\n"
   ]
  },
  {
   "cell_type": "code",
   "execution_count": 3,
   "id": "a46216a4-4b4f-4c32-bc39-c452d3ada638",
   "metadata": {},
   "outputs": [],
   "source": [
    "# login\n",
    "\n",
    "url = 'http://140.112.90.203:6271'\n",
    "driver.get(url)\n",
    "\n",
    "# 找到用户名和密码输入框并输入相应的值\n",
    "team_name_input = driver.find_element(\"name\", \"teamname\")\n",
    "password_input = driver.find_element(\"name\", \"passwd\")\n",
    "\n",
    "# 输入用户名和密码\n",
    "team_name_input.send_keys(\"teamname\")  # 改成真正的\n",
    "password_input.send_keys(\"passwd\")  # 改成真正的\n",
    "\n",
    "# 提交表单（可以使用 Enter 键模拟）\n",
    "password_input.send_keys(Keys.RETURN)\n"
   ]
  },
  {
   "cell_type": "code",
   "execution_count": 4,
   "id": "5fc8f1fd-e727-4315-bd0e-00b3025b42da",
   "metadata": {},
   "outputs": [],
   "source": [
    "# go to chatUI\n",
    "\n",
    "link_element = driver.find_element(\"link text\", \"Chat UI\")\n",
    "link_element.click()"
   ]
  },
  {
   "cell_type": "code",
   "execution_count": 5,
   "id": "87972963-af60-43a0-85e5-1bef9aa9688c",
   "metadata": {},
   "outputs": [],
   "source": [
    "name = \"youtube_profit\"\n",
    "subject_i = \"Should we regulate the use of large language models in education and research?\""
   ]
  },
  {
   "cell_type": "code",
   "execution_count": 6,
   "id": "3492bb18-68ff-4229-bf26-eec0fd9c7f90",
   "metadata": {},
   "outputs": [
    {
     "name": "stderr",
     "output_type": "stream",
     "text": [
      "C:\\Users\\郭瑋 羽\\AppData\\Local\\Temp\\ipykernel_1888\\4065776538.py:25: DeprecationWarning: find_element_by_* commands are deprecated. Please use find_element() instead\n",
      "  textarea = driver.find_element_by_id('llm_config')\n",
      "C:\\Users\\郭瑋 羽\\AppData\\Local\\Temp\\ipykernel_1888\\4065776538.py:29: DeprecationWarning: find_element_by_* commands are deprecated. Please use find_element() instead\n",
      "  form = driver.find_element_by_tag_name('form')\n"
     ]
    }
   ],
   "source": [
    "# submit config\n",
    "\n",
    "config_data = f\"\"\"\n",
    "{{\n",
    "   \"subject\": \"{subject_i}\",\n",
    "   \"Agent-A\": {{\n",
    "       \"model\": \"gpt-3.5-turbo-16k\",\n",
    "       \"frequency_penalty\": 0.1,\n",
    "       \"n\": 1,\n",
    "       \"presence_penalty\": 0.1,\n",
    "       \"top_p\": 0.1\n",
    "   }},\n",
    "   \"Agent-B\": {{\n",
    "       \"model\": \"gpt-3.5-turbo-16k\",\n",
    "       \"frequency_penalty\": 0.1,\n",
    "       \"n\": 1,\n",
    "       \"presence_penalty\": 0.1,\n",
    "       \"top_p\": 0.1\n",
    "   }}\n",
    "}}\n",
    "\"\"\"\n",
    "\n",
    "\n",
    "# 找到llm_config的textarea元素并填入数据\n",
    "textarea = driver.find_element_by_id('llm_config')\n",
    "textarea.send_keys(config_data)\n",
    "\n",
    "# 找到表单并提交\n",
    "form = driver.find_element_by_tag_name('form')\n",
    "form.submit()\n"
   ]
  },
  {
   "cell_type": "markdown",
   "id": "b848d524-76da-431c-a1a8-4dad70267062",
   "metadata": {},
   "source": [
    "### Committee Initialization"
   ]
  },
  {
   "cell_type": "code",
   "execution_count": 7,
   "id": "c01db960-4585-4222-891e-7366ef572f4b",
   "metadata": {},
   "outputs": [],
   "source": [
    "# 等待 agent 回覆完畢\n",
    "def wait_for_submit_button(driver, timeout=3600):\n",
    "    submit_button_locator = (By.ID, 'sendbtn')\n",
    "    WebDriverWait(driver, timeout).until(EC.element_to_be_clickable(submit_button_locator))\n",
    "\n",
    "# 对话的内容及操作\n",
    "def talk(user_input, submit_button, user_input_element):\n",
    "    user_input_element.send_keys(user_input)\n",
    "    submit_button.click()\n",
    "    wait_for_submit_button(driver)\n",
    "    submit_button = driver.find_element_by_css_selector('#sendbtn')\n",
    "    submit_button.click()\n",
    "\n",
    "def store_talk_response(class_name):\n",
    "    agent_elements = driver.find_elements_by_class_name(class_name)\n",
    "    if agent_elements:\n",
    "        last_agent_element = agent_elements[-1]\n",
    "        robot_response = last_agent_element.text\n",
    "        return robot_response\n",
    "        #print(\"機器人的回覆:\", robot_response)\n",
    "    else:\n",
    "        #print(f\"未找到 class 为 '{class_name}' 的元素\")\n",
    "        return \"Not found!\""
   ]
  },
  {
   "cell_type": "code",
   "execution_count": 8,
   "id": "2982303d-3fdb-476a-9a8c-c99bb50b8f2a",
   "metadata": {},
   "outputs": [
    {
     "name": "stderr",
     "output_type": "stream",
     "text": [
      "C:\\Users\\郭瑋 羽\\AppData\\Local\\Temp\\ipykernel_1888\\2182635282.py:1: DeprecationWarning: find_element_by_* commands are deprecated. Please use find_element() instead\n",
      "  select_element = driver.find_element_by_id('action')\n",
      "C:\\Users\\郭瑋 羽\\AppData\\Local\\Temp\\ipykernel_1888\\2182635282.py:3: DeprecationWarning: find_element_by_* commands are deprecated. Please use find_element() instead\n",
      "  user_input_element = driver.find_element_by_id('userinput')\n",
      "C:\\Users\\郭瑋 羽\\AppData\\Local\\Temp\\ipykernel_1888\\2182635282.py:4: DeprecationWarning: find_element_by_* commands are deprecated. Please use find_element() instead\n",
      "  submit_button = driver.find_element_by_id('sendbtn')\n"
     ]
    }
   ],
   "source": [
    "select_element = driver.find_element_by_id('action')\n",
    "select = Select(select_element)\n",
    "user_input_element = driver.find_element_by_id('userinput')\n",
    "submit_button = driver.find_element_by_id('sendbtn')"
   ]
  },
  {
   "cell_type": "markdown",
   "id": "f68f0ffb-801a-43f6-9a6c-e8490e68ee50",
   "metadata": {},
   "source": [
    "#### Committee Initialization for A"
   ]
  },
  {
   "cell_type": "code",
   "execution_count": 9,
   "id": "acf6e73f-a5da-4539-a594-7821bcbe1f23",
   "metadata": {},
   "outputs": [],
   "source": [
    "a1 = \"\"\"I’m organizing a committee to engage in debates on various subjects. \n",
    "As the moderator, I will introduce a subject for you, Agent A, and another participant, Agent B, to debate. \n",
    "Agent A, you will advocate in favor of the issue, so please prepare evidence to strengthen your argument. \n",
    "On a scale from 0 to 1, where 0 denotes complete agreement and 1 indicates a devil’s advocate stance, your argument strength is rated at 0.9.\"\"\"\n",
    "\n",
    "a2 = f\"\"\"Agent-A, we are in the process of selecting a suitable subject for debate. \n",
    "What do you think of {subject_i} as a balanced subject for our debate contest?\"\"\"\n",
    "\n",
    "a3 = \"\"\"Agent-A, could you please suggest various ten topics or themes for the above debate subject?\n",
    "Print the ten topics with item list.\"\"\""
   ]
  },
  {
   "cell_type": "code",
   "execution_count": 10,
   "id": "05ad5bb1-446f-431f-bce0-5ba5d0d23447",
   "metadata": {},
   "outputs": [
    {
     "name": "stderr",
     "output_type": "stream",
     "text": [
      "C:\\Users\\郭瑋 羽\\AppData\\Local\\Temp\\ipykernel_1888\\3699495490.py:11: DeprecationWarning: find_element_by_* commands are deprecated. Please use find_element() instead\n",
      "  submit_button = driver.find_element_by_css_selector('#sendbtn')\n",
      "C:\\Users\\郭瑋 羽\\AppData\\Local\\Temp\\ipykernel_1888\\3699495490.py:15: DeprecationWarning: find_elements_by_* commands are deprecated. Please use find_elements() instead\n",
      "  agent_elements = driver.find_elements_by_class_name(class_name)\n"
     ]
    }
   ],
   "source": [
    "# chat with A\n",
    "\n",
    "select.select_by_visible_text(\"Agent-A\")\n",
    "\n",
    "talk(a1, submit_button, user_input_element)\n",
    "talk(a2, submit_button, user_input_element)\n",
    "talk(a3, submit_button, user_input_element)\n",
    "\n",
    "robot_response_A = store_talk_response('agentAmessage')\n",
    "    "
   ]
  },
  {
   "cell_type": "markdown",
   "id": "37bee390-afad-418e-b6cc-b5be29b60e8e",
   "metadata": {},
   "source": [
    "#### Committee Initialization for B"
   ]
  },
  {
   "cell_type": "code",
   "execution_count": 11,
   "id": "d9e87663-003c-4d4e-918e-4996fb3fcbff",
   "metadata": {},
   "outputs": [],
   "source": [
    "b1 = \"\"\"I’m organizing a committee to engage in debates on various subjects. \n",
    "As the moderator, I will introduce a subject for you, Agent B, and another participant, Agent A, to debate. \n",
    "Agent B, you will oppose in favor of the issue, so please prepare evidence to strengthen your argument. \n",
    "On a scale from 0 to 1, where 0 denotes complete agreement and 1 indicates a devil’s advocate stance, your argument strength is rated at 0.9.\"\"\"\n",
    "\n",
    "b2 = f\"\"\"Agent-B, we are in the process of selecting a suitable subject for debate. \n",
    "What do you think of {subject_i} as a balanced subject for our debate contest?\"\"\"\n",
    "\n",
    "b3 = \"\"\"Agent-B, could you please suggest various ten topics or themes for the above debate subject?\n",
    "Print the ten topics with item list.\"\"\""
   ]
  },
  {
   "cell_type": "code",
   "execution_count": 12,
   "id": "20ede438-a112-455a-8468-e68e1a06ab18",
   "metadata": {},
   "outputs": [
    {
     "name": "stderr",
     "output_type": "stream",
     "text": [
      "C:\\Users\\郭瑋 羽\\AppData\\Local\\Temp\\ipykernel_1888\\3699495490.py:11: DeprecationWarning: find_element_by_* commands are deprecated. Please use find_element() instead\n",
      "  submit_button = driver.find_element_by_css_selector('#sendbtn')\n",
      "C:\\Users\\郭瑋 羽\\AppData\\Local\\Temp\\ipykernel_1888\\3699495490.py:15: DeprecationWarning: find_elements_by_* commands are deprecated. Please use find_elements() instead\n",
      "  agent_elements = driver.find_elements_by_class_name(class_name)\n"
     ]
    }
   ],
   "source": [
    "# 聊天\n",
    "\n",
    "select.select_by_visible_text(\"Agent-B\")\n",
    "\n",
    "talk(b1, submit_button, user_input_element)\n",
    "talk(b2, submit_button, user_input_element)\n",
    "talk(b3, submit_button, user_input_element)\n",
    "\n",
    "robot_response_B = store_talk_response('agentBmessage')\n"
   ]
  },
  {
   "cell_type": "markdown",
   "id": "96718d81-9625-44c0-95f4-646afa688f05",
   "metadata": {},
   "source": [
    "#### 讓 A & B 對話"
   ]
  },
  {
   "cell_type": "markdown",
   "id": "ef8eebd1-0de7-4be7-a464-f78883cfadc2",
   "metadata": {},
   "source": [
    "##### 準備主持人台詞"
   ]
  },
  {
   "cell_type": "code",
   "execution_count": 28,
   "id": "54143ee7-2f27-4329-9a44-30360792e13a",
   "metadata": {},
   "outputs": [],
   "source": [
    "a_inter_static_front = []\n",
    "a_inter_static_end = []\n",
    "b_inter_static_front = []\n",
    "b_inter_static_end = []"
   ]
  },
  {
   "cell_type": "code",
   "execution_count": 29,
   "id": "1437f350-44be-4bdb-a42b-670488ebb495",
   "metadata": {},
   "outputs": [],
   "source": [
    "a_inter_static_front.append(\"Agent-A, you and Agent-B proposed ten topics:\")\n",
    "a_inter_static_end.append(\"Please review the lists and reduce the topics to five.\")\n",
    "\n",
    "b_inter_static_front.append(\"Agent-B, you and Agent-A proposed ten topics:\")\n",
    "b_inter_static_end.append(\"Please review the lists and reduce the topics to five.\")\n"
   ]
  },
  {
   "cell_type": "code",
   "execution_count": 30,
   "id": "b09b3e02-f5c7-410b-85ce-dc381c0dec23",
   "metadata": {},
   "outputs": [],
   "source": [
    "a_inter_static_front.append(\"Agent-A, you and Agent-B reduced the topics to five:\")\n",
    "a_inter_static_end.append(\"Please identify and refine the list of five to be somehow overlapping.\")\n",
    "\n",
    "b_inter_static_front.append(\"Agent-B, you and Agent-A reduced the topics to five:\")\n",
    "b_inter_static_end.append(\"Please identify and refine the list of five to be somehow overlapping.\")\n"
   ]
  },
  {
   "cell_type": "code",
   "execution_count": 31,
   "id": "f56dc2f0-4706-4a95-860b-d62ca3b6f3f9",
   "metadata": {},
   "outputs": [],
   "source": [
    "a_inter_static_front.append(\"Agent-A, these are topics of the debate:\")\n",
    "a_inter_static_end.append(\"Please represent the proponent of the debate topics and show your perspectives in one sentence.\")\n",
    "\n",
    "b_inter_static_front.append(\"Agent-B, these are topics of the debate:\")\n",
    "b_inter_static_end.append(\"Please represent the opponent of the debate topics and show your perspectives in one sentence.\")\n"
   ]
  },
  {
   "cell_type": "code",
   "execution_count": 32,
   "id": "f237f90c-d864-45a5-94fc-75ab5f0ad7e6",
   "metadata": {},
   "outputs": [],
   "source": [
    "a_inter_static_front.append(\"Agent-A, you and Agent-B proposed five topics and corresponding perspectives:\")\n",
    "a_inter_static_end.append(\"Please identify overlapping themes from the topics and propose the five debate topics.\")\n",
    "\n",
    "b_inter_static_front.append(\"Agent-B, you and Agent-A proposed five topics and corresponding perspectives:\")\n",
    "b_inter_static_end.append(\"Please identify overlapping themes from the topics and propose the five debate topics.\")\n"
   ]
  },
  {
   "cell_type": "code",
   "execution_count": 33,
   "id": "0b1a9e14-c363-44df-8ef4-8272977d2a3e",
   "metadata": {},
   "outputs": [],
   "source": [
    "# 這裡先讓 A 統整，再聞 B 同不同意\n",
    "\n",
    "a_inter_static_front.append(\"Agent-A, you and Agent-B proposed five debate topics:\")\n",
    "a_inter_static_end.append(\"\"\"Please review these debate topics, reduce them to five debate topics, provide concerns, the center, \n",
    "and the focus of the debate topics, and invite feedback from Agent B.\"\"\")\n",
    "\n",
    "b_inter_static_front.append(\"Agent-B, Agent-A request you to review these debate topics:\")\n",
    "b_inter_static_end.append(\"\"\"Now, I invite feedback from Agent B on these refined debate topics and their respective concerns, centers, and focuses. \n",
    "Agent B, please share your thoughts and any suggestions you may have.\n",
    "\n",
    "Please review these debate topics and provide concerns, the center, and the focus of the debate topics.\n",
    "Do you agree on these debate topics?\n",
    "- If Yes, please say 'I agree.'\n",
    "- If No, please say 'I do not agree.' and invite feedback from Agent A.\"\"\")\n"
   ]
  },
  {
   "cell_type": "code",
   "execution_count": 34,
   "id": "f8421fa4-b425-425c-b8a0-54449d2714cb",
   "metadata": {},
   "outputs": [],
   "source": [
    "# if B 不同意\n",
    "# 讓 A 根據 B 的意見去修改，然後再問 B 一次\n",
    "\n",
    "a_check_topic0_front = \"Agent-A, Agent-B is not agree with these five debate topics. Here is what Agent-B says:\"\n",
    "a_check_topic0_end = \"Please consider what Agent-B says, and provide five debate topics, and invite feedback from Agent B.\"\n",
    "\n",
    "b_check_topic0_front = \"Agent-B, following is what Agent-A modified with your opinion:\"\n",
    "b_check_topic0_end = \"\"\"Now, I invite feedback from Agent B on these refined debate topics and their respective concerns, centers, and focuses. \n",
    "Agent B, please share your thoughts and any suggestions you may have.\n",
    "\n",
    "Please review these debate topics and provide concerns, the center, and the focus of the debate topics.\n",
    "Do you agree on these debate topics?\n",
    "- If Yes, please say 'I agree.'\n",
    "- If No, please say 'I do not agree.' and invite feedback from Agent A.\n",
    "\"\"\"\n"
   ]
  },
  {
   "cell_type": "code",
   "execution_count": 35,
   "id": "d3cb6329-b5a7-4d81-af19-b260ea7884f3",
   "metadata": {},
   "outputs": [],
   "source": [
    "# if B 同意\n",
    "\n",
    "a_check_topic1 = \"\"\"Agent-A, Agent-B agrees with the proposed debate topics.\n",
    "As the proponent, show your concern and point of the five debate topics.\n",
    "\"\"\"\n",
    "\n",
    "b_check_topic1 = \"\"\"Agent-B, Agent-A agrees with the proposed debate topics.\n",
    "As the opponent, show your concern and point of the five debate topics.\n",
    "\"\"\""
   ]
  },
  {
   "cell_type": "code",
   "execution_count": 36,
   "id": "d2f449b7-7fcc-4a67-ad4c-eeaf4e3eb467",
   "metadata": {},
   "outputs": [],
   "source": [
    "a_check_topic2 = f\"\"\"Agent-A, as the proponent of the subject {subject_i}, \n",
    "you advocate the debate topics, so please prepare evidence to strengthen your argument. \n",
    "On a value that ranges from 0 to 1, with 1 indicating a confrontational approach and 0 signifying a conciliatory stance, \n",
    "your argument strength is rated at 0.9. Now, please provide your arguments on the five debate topics.\n",
    "\"\"\"\n",
    "\n",
    "b_check_topic2_front = f\"\"\"Agent-B, as the opponent of the subject {subject_i}, \n",
    "you oppose the debate topics, so please prepare evidence to strengthen your argument. \n",
    "On a value that ranges from 0 to 1, with 1 indicating a confrontational approach and 0 signifying a conciliatory stance, \n",
    "your argument strength is rated at 0.9. \n",
    "These are arguments from Agent-A:\"\"\"\n",
    "b_check_topic2_end = \"Please articulate counter-arguments to the points made by Agent A.\"\n"
   ]
  },
  {
   "cell_type": "code",
   "execution_count": 37,
   "id": "b1c19fec-c6de-458e-af19-18ab4b988130",
   "metadata": {},
   "outputs": [],
   "source": [
    "# 開始辯論，看要幾輪\n",
    "\n",
    "a_debate_front = \"These are counter-arguments from Agent-B:\"\n",
    "a_debate_end = \"Please articulate arguments against the points made by Agent B.\"\n",
    "\n",
    "b_debate_front = \"These are arguments from Agent-A:\"\n",
    "b_debate_end = \"Please articulate counter-arguments against the points made by Agent A.\"\n"
   ]
  },
  {
   "cell_type": "code",
   "execution_count": 38,
   "id": "8cf1833d-31ca-4a4a-bc86-fb07fc753c9b",
   "metadata": {},
   "outputs": [],
   "source": [
    "# 總結\n",
    "\n",
    "a_final_front = \"Agent-A, These are arguments from Agent-B:\"\n",
    "a_final_end = \"\"\"It's time to close the debate.\n",
    "Have you exhaustively presented your arguments?\n",
    "- If Yes, please say, 'I am ready to deliver my closing statements.'\n",
    "- If No, please provide your arguments on the five debate topics.\n",
    "\"\"\"\n",
    "\n",
    "\n",
    "b_final_front = \"Agent-B, These are arguments from Agent-B:\"\n",
    "b_final_end = \"\"\"Agent-B, It's time to close the debate.\n",
    "Have you exhaustively presented your arguments?\n",
    "- If Yes, please say, 'I am ready to deliver my closing statements.'\n",
    "- If No, please provide your arguments on the five debate topics.\n",
    "\"\"\"\n"
   ]
  },
  {
   "cell_type": "code",
   "execution_count": 39,
   "id": "472db975-0720-48c2-8037-6530e32e9f79",
   "metadata": {},
   "outputs": [],
   "source": [
    "# if someone still not ready\n",
    "# 讓他們回去再辯論一輪，然後再問一次準備好了沒"
   ]
  },
  {
   "cell_type": "code",
   "execution_count": 40,
   "id": "f85a54d6-7220-477a-8b7b-8eba1648ff7c",
   "metadata": {},
   "outputs": [],
   "source": [
    "# if all ready\n",
    "\n",
    "a_output = f\"\"\"Agent-A, as the proponent of the subject {subject_i}, \n",
    "you advocate the debate topics, so please provide the conclusions of your argument on the five debate topics.\n",
    "\"\"\"\n",
    "\n",
    "b_output = f\"\"\"Agent-B, as the opponent of the subject {subject_i}, \n",
    "you oppose the debate topics, so please provide the conclusions of your counter-argument on the five debate topics.\n",
    "\"\"\""
   ]
  },
  {
   "cell_type": "markdown",
   "id": "5ed48635-4e5f-4ddc-bd72-5a4f73762dd0",
   "metadata": {},
   "source": [
    "##### interact with agents"
   ]
  },
  {
   "cell_type": "code",
   "execution_count": 41,
   "id": "bd795b4b-08bd-454a-b3fc-4d99992754c1",
   "metadata": {},
   "outputs": [
    {
     "name": "stderr",
     "output_type": "stream",
     "text": [
      "C:\\Users\\郭瑋 羽\\AppData\\Local\\Temp\\ipykernel_1888\\3699495490.py:11: DeprecationWarning: find_element_by_* commands are deprecated. Please use find_element() instead\n",
      "  submit_button = driver.find_element_by_css_selector('#sendbtn')\n",
      "C:\\Users\\郭瑋 羽\\AppData\\Local\\Temp\\ipykernel_1888\\3699495490.py:15: DeprecationWarning: find_elements_by_* commands are deprecated. Please use find_elements() instead\n",
      "  agent_elements = driver.find_elements_by_class_name(class_name)\n"
     ]
    },
    {
     "name": "stdout",
     "output_type": "stream",
     "text": [
      "Agent-A: \"Apologies once again for any confusion caused earlier. After reviewing the debate topics proposed by both Agent-A and Agent-B, here are the refined debate topics along with their concerns, centers, and focuses: 1. Ethical implications and responsible use of large language models in education and research: Concerns: Addressing ethical implications, biases, privacy concerns, and potential harm. Center: Ensuring responsible and ethical usage of language models in educational and research settings. Focus: Discussing the ethical considerations, responsible practices, and potential impact on various stakeholders. 2. Privacy concerns, data usage, and safeguarding personal information in the utilization of large language models: Concerns: Protection of privacy, data handling, consent, and minimizing risks. Center: Developing frameworks to safeguard personal information during the use of language models. Focus: Examining the measures to protect privacy, guidelines for data usage, and ensuring responsible handling of personal information. 3. Balancing innovation, risks, and regulations in the use of large language models: Concerns: Striking a balance between promoting innovation, managing risks, and regulating usage. Center: Achieving harmony between innovation and regulatory measures for language models. Focus: Discussing the need for innovation, managing risks effectively, and implementing necessary regulations to govern language model usage. 4. Fairness, biases, and accurate representation in the outputs of large language models: Concerns: Mitigating biases, ensuring fairness, accurate representation, and minimizing discrimination. Center: Promoting unbiased and fair results generated by language models in education and research. Focus: Exploring methods to minimize biases, ensuring fair representation across diverse demographics, and addressing potential discriminatory outcomes. 5. Human expertise, oversight, and collaboration in conjunction with large language models: Concerns: The role and involvement of human experts, responsible oversight, and collaborative approaches. Center: Recognizing the importance of human expertise and responsible oversight in utilizing language models. Focus: Discussing the collaboration between human experts and language models, the role of oversight, and optimizing the potential of language models in education and research. I invite Agent-B to review these refined debate topics and provide any feedback or suggestions for further improvement.\"\n",
      "Agent-B: \"I agree with the refined debate topics proposed by Agent-A. Here is a summary of the concerns, center, and focus for each debate topic: 1. Ethical implications and responsible use of large language models in education and research: - Concerns: Ethical implications, biases, privacy concerns, and potential harm. - Center: Ensuring responsible and ethical usage of language models in educational and research settings. - Focus: Examining ethical considerations, responsible practices, and potential impacts on various stakeholders. 2. Privacy concerns, data usage, and safeguarding personal information in the utilization of large language models: - Concerns: Protection of privacy, data handling, consent, and minimizing risks. - Center: Developing frameworks to safeguard personal information during the use of language models. - Focus: Discussing measures to protect privacy, guidelines for data usage, and responsible handling of personal information. 3. Balancing innovation, risks, and regulations in the use of large language models: - Concerns: Striking a balance between promoting innovation, managing risks, and regulating usage. - Center: Achieving harmony between innovation and regulatory measures for language models. - Focus: Exploring the need for innovation, effective risk management, and implementation of necessary regulations. 4. Fairness, biases, and accurate representation in the outputs of large language models: - Concerns: Mitigating biases, ensuring fairness, accurate representation, and minimizing discrimination. - Center: Promoting unbiased and fair results generated by language models in education and research. - Focus: Discussing methods to minimize biases, ensure fair representation across diverse demographics, and address potential discriminatory outcomes. 5. Human expertise, oversight, and collaboration in conjunction with large language models: - Concerns: The role and involvement of human experts, responsible oversight, and collaborative approaches. - Center: Recognizing the importance of human expertise and responsible oversight in utilizing language models. - Focus: Exploring collaboration between human experts and language models, the role of oversight, and optimizing the potential of language models in education and research. I agree with these debate topics and the associated concerns, centers, and focuses.\"\n"
     ]
    }
   ],
   "source": [
    "for i in range(5):\n",
    "    select.select_by_visible_text(\"Agent-A\")\n",
    "    to_a = f\"{a_inter_static_front[i]}\\n{robot_response_A}\\n{robot_response_B}\\n{a_inter_static_end[i]}\"\n",
    "    talk(to_a, submit_button, user_input_element)\n",
    "    robot_response_A = store_talk_response('agentAmessage')\n",
    "\n",
    "    select.select_by_visible_text(\"Agent-B\")\n",
    "    to_b = f\"{b_inter_static_front[i]}\\n{robot_response_B}\\n{robot_response_A}\\n{b_inter_static_end[i]}\"\n",
    "    talk(to_b, submit_button, user_input_element)\n",
    "    robot_response_B = store_talk_response('agentBmessage')\n"
   ]
  },
  {
   "cell_type": "code",
   "execution_count": 43,
   "id": "90334faf-01b3-4acd-8c67-bf06e1d9db47",
   "metadata": {},
   "outputs": [
    {
     "name": "stderr",
     "output_type": "stream",
     "text": [
      "C:\\Users\\郭瑋 羽\\AppData\\Local\\Temp\\ipykernel_1888\\3699495490.py:11: DeprecationWarning: find_element_by_* commands are deprecated. Please use find_element() instead\n",
      "  submit_button = driver.find_element_by_css_selector('#sendbtn')\n",
      "C:\\Users\\郭瑋 羽\\AppData\\Local\\Temp\\ipykernel_1888\\3699495490.py:15: DeprecationWarning: find_elements_by_* commands are deprecated. Please use find_elements() instead\n",
      "  agent_elements = driver.find_elements_by_class_name(class_name)\n"
     ]
    },
    {
     "ename": "KeyboardInterrupt",
     "evalue": "",
     "output_type": "error",
     "traceback": [
      "\u001b[1;31m---------------------------------------------------------------------------\u001b[0m",
      "\u001b[1;31mKeyboardInterrupt\u001b[0m                         Traceback (most recent call last)",
      "Cell \u001b[1;32mIn[43], line 22\u001b[0m\n\u001b[0;32m     19\u001b[0m robot_response_A \u001b[38;5;241m=\u001b[39m store_talk_response(\u001b[38;5;124m'\u001b[39m\u001b[38;5;124magentAmessage\u001b[39m\u001b[38;5;124m'\u001b[39m)\n\u001b[0;32m     21\u001b[0m select\u001b[38;5;241m.\u001b[39mselect_by_visible_text(\u001b[38;5;124m\"\u001b[39m\u001b[38;5;124mAgent-B\u001b[39m\u001b[38;5;124m\"\u001b[39m)\n\u001b[1;32m---> 22\u001b[0m \u001b[43mtalk\u001b[49m\u001b[43m(\u001b[49m\u001b[43mb_check_topic1\u001b[49m\u001b[43m,\u001b[49m\u001b[43m \u001b[49m\u001b[43msubmit_button\u001b[49m\u001b[43m,\u001b[49m\u001b[43m \u001b[49m\u001b[43muser_input_element\u001b[49m\u001b[43m)\u001b[49m\n\u001b[0;32m     23\u001b[0m robot_response_B \u001b[38;5;241m=\u001b[39m store_talk_response(\u001b[38;5;124m'\u001b[39m\u001b[38;5;124magentBmessage\u001b[39m\u001b[38;5;124m'\u001b[39m)\n\u001b[0;32m     25\u001b[0m select\u001b[38;5;241m.\u001b[39mselect_by_visible_text(\u001b[38;5;124m\"\u001b[39m\u001b[38;5;124mAgent-A\u001b[39m\u001b[38;5;124m\"\u001b[39m)\n",
      "Cell \u001b[1;32mIn[7], line 10\u001b[0m, in \u001b[0;36mtalk\u001b[1;34m(user_input, submit_button, user_input_element)\u001b[0m\n\u001b[0;32m      8\u001b[0m user_input_element\u001b[38;5;241m.\u001b[39msend_keys(user_input)\n\u001b[0;32m      9\u001b[0m submit_button\u001b[38;5;241m.\u001b[39mclick()\n\u001b[1;32m---> 10\u001b[0m \u001b[43mwait_for_submit_button\u001b[49m\u001b[43m(\u001b[49m\u001b[43mdriver\u001b[49m\u001b[43m)\u001b[49m\n\u001b[0;32m     11\u001b[0m submit_button \u001b[38;5;241m=\u001b[39m driver\u001b[38;5;241m.\u001b[39mfind_element_by_css_selector(\u001b[38;5;124m'\u001b[39m\u001b[38;5;124m#sendbtn\u001b[39m\u001b[38;5;124m'\u001b[39m)\n\u001b[0;32m     12\u001b[0m submit_button\u001b[38;5;241m.\u001b[39mclick()\n",
      "Cell \u001b[1;32mIn[7], line 4\u001b[0m, in \u001b[0;36mwait_for_submit_button\u001b[1;34m(driver, timeout)\u001b[0m\n\u001b[0;32m      2\u001b[0m \u001b[38;5;28;01mdef\u001b[39;00m \u001b[38;5;21mwait_for_submit_button\u001b[39m(driver, timeout\u001b[38;5;241m=\u001b[39m\u001b[38;5;241m3600\u001b[39m):\n\u001b[0;32m      3\u001b[0m     submit_button_locator \u001b[38;5;241m=\u001b[39m (By\u001b[38;5;241m.\u001b[39mID, \u001b[38;5;124m'\u001b[39m\u001b[38;5;124msendbtn\u001b[39m\u001b[38;5;124m'\u001b[39m)\n\u001b[1;32m----> 4\u001b[0m     \u001b[43mWebDriverWait\u001b[49m\u001b[43m(\u001b[49m\u001b[43mdriver\u001b[49m\u001b[43m,\u001b[49m\u001b[43m \u001b[49m\u001b[43mtimeout\u001b[49m\u001b[43m)\u001b[49m\u001b[38;5;241;43m.\u001b[39;49m\u001b[43muntil\u001b[49m\u001b[43m(\u001b[49m\u001b[43mEC\u001b[49m\u001b[38;5;241;43m.\u001b[39;49m\u001b[43melement_to_be_clickable\u001b[49m\u001b[43m(\u001b[49m\u001b[43msubmit_button_locator\u001b[49m\u001b[43m)\u001b[49m\u001b[43m)\u001b[49m\n",
      "File \u001b[1;32m~\\AppData\\Local\\Programs\\Python\\Python311\\Lib\\site-packages\\selenium\\webdriver\\support\\wait.py:86\u001b[0m, in \u001b[0;36mWebDriverWait.until\u001b[1;34m(self, method, message)\u001b[0m\n\u001b[0;32m     84\u001b[0m     screen \u001b[38;5;241m=\u001b[39m \u001b[38;5;28mgetattr\u001b[39m(exc, \u001b[38;5;124m'\u001b[39m\u001b[38;5;124mscreen\u001b[39m\u001b[38;5;124m'\u001b[39m, \u001b[38;5;28;01mNone\u001b[39;00m)\n\u001b[0;32m     85\u001b[0m     stacktrace \u001b[38;5;241m=\u001b[39m \u001b[38;5;28mgetattr\u001b[39m(exc, \u001b[38;5;124m'\u001b[39m\u001b[38;5;124mstacktrace\u001b[39m\u001b[38;5;124m'\u001b[39m, \u001b[38;5;28;01mNone\u001b[39;00m)\n\u001b[1;32m---> 86\u001b[0m time\u001b[38;5;241m.\u001b[39msleep(\u001b[38;5;28mself\u001b[39m\u001b[38;5;241m.\u001b[39m_poll)\n\u001b[0;32m     87\u001b[0m \u001b[38;5;28;01mif\u001b[39;00m time\u001b[38;5;241m.\u001b[39mtime() \u001b[38;5;241m>\u001b[39m end_time:\n\u001b[0;32m     88\u001b[0m     \u001b[38;5;28;01mbreak\u001b[39;00m\n",
      "\u001b[1;31mKeyboardInterrupt\u001b[0m: "
     ]
    }
   ],
   "source": [
    "# 問 B 是否同意 A 統整的主題\n",
    "# check topic\n",
    "\n",
    "count = 0\n",
    "while((\"I agree\" not in robot_response_B) and  count <= 3):  # 最多不同意 3 次\n",
    "    count += 1\n",
    "    \n",
    "    select.select_by_visible_text(\"Agent-A\")\n",
    "    to_a = f\"{a_check_topic0_front}\\n{robot_response_B}\\n{a_check_topic0_end}\"\n",
    "    talk(to_a, submit_button, user_input_element)\n",
    "    robot_response_A = store_talk_response('agentAmessage')\n",
    "    \n",
    "    select.select_by_visible_text(\"Agent-B\")\n",
    "    to_b = f\"{b_check_topic0_front}\\n{robot_response_A}\\n{b_check_topic0_end}\"\n",
    "    talk(to_b, submit_button, user_input_element)\n",
    "    robot_response_B = store_talk_response('agentBmessage')   \n",
    "\n",
    "    \n",
    "# if B 同意\n",
    "select.select_by_visible_text(\"Agent-A\")\n",
    "talk(a_check_topic1, submit_button, user_input_element)\n",
    "robot_response_A = store_talk_response('agentAmessage')\n",
    "\n",
    "select.select_by_visible_text(\"Agent-B\")\n",
    "talk(b_check_topic1, submit_button, user_input_element)\n",
    "robot_response_B = store_talk_response('agentBmessage')\n",
    "\n",
    "select.select_by_visible_text(\"Agent-A\")\n",
    "talk(a_check_topic2, submit_button, user_input_element)\n",
    "robot_response_A = store_talk_response('agentAmessage')\n",
    "\n",
    "select.select_by_visible_text(\"Agent-B\")\n",
    "to_b = f\"{b_check_topic2_front}\\n{robot_response_A}\\n{b_check_topic2_end}\"\n",
    "talk(to_b, submit_button, user_input_element)\n",
    "robot_response_B = store_talk_response('agentBmessage')"
   ]
  },
  {
   "cell_type": "code",
   "execution_count": 44,
   "id": "9419e3e6-0ddd-49fe-9bd8-0d415a123703",
   "metadata": {},
   "outputs": [
    {
     "name": "stderr",
     "output_type": "stream",
     "text": [
      "C:\\Users\\郭瑋 羽\\AppData\\Local\\Temp\\ipykernel_1888\\3699495490.py:11: DeprecationWarning: find_element_by_* commands are deprecated. Please use find_element() instead\n",
      "  submit_button = driver.find_element_by_css_selector('#sendbtn')\n",
      "C:\\Users\\郭瑋 羽\\AppData\\Local\\Temp\\ipykernel_1888\\3699495490.py:15: DeprecationWarning: find_elements_by_* commands are deprecated. Please use find_elements() instead\n",
      "  agent_elements = driver.find_elements_by_class_name(class_name)\n"
     ]
    }
   ],
   "source": [
    "# 之後刪掉這個 cell\n",
    "\n",
    "select.select_by_visible_text(\"Agent-A\")\n",
    "talk(a_check_topic2, submit_button, user_input_element)\n",
    "robot_response_A = store_talk_response('agentAmessage')\n",
    "\n",
    "select.select_by_visible_text(\"Agent-B\")\n",
    "to_b = f\"{b_check_topic2_front}\\n{robot_response_A}\\n{b_check_topic2_end}\"\n",
    "talk(to_b, submit_button, user_input_element)\n",
    "robot_response_B = store_talk_response('agentBmessage')"
   ]
  },
  {
   "cell_type": "code",
   "execution_count": 45,
   "id": "17f3865d-aeb0-43b9-867c-5bfc6ae0a4e6",
   "metadata": {},
   "outputs": [
    {
     "name": "stderr",
     "output_type": "stream",
     "text": [
      "C:\\Users\\郭瑋 羽\\AppData\\Local\\Temp\\ipykernel_1888\\3699495490.py:11: DeprecationWarning: find_element_by_* commands are deprecated. Please use find_element() instead\n",
      "  submit_button = driver.find_element_by_css_selector('#sendbtn')\n",
      "C:\\Users\\郭瑋 羽\\AppData\\Local\\Temp\\ipykernel_1888\\3699495490.py:15: DeprecationWarning: find_elements_by_* commands are deprecated. Please use find_elements() instead\n",
      "  agent_elements = driver.find_elements_by_class_name(class_name)\n"
     ]
    }
   ],
   "source": [
    "# debate\n",
    "\n",
    "k = 3  # 我想睡覺了  \n",
    "for i in range(k):  # k round debate\n",
    "    select.select_by_visible_text(\"Agent-A\")\n",
    "    to_a = f\"{a_debate_front}\\n{robot_response_B}\\n{a_debate_end}\"\n",
    "    talk(to_a, submit_button, user_input_element)\n",
    "    robot_response_A = store_talk_response('agentAmessage')\n",
    "\n",
    "    select.select_by_visible_text(\"Agent-B\")\n",
    "    to_b = f\"{b_debate_front}\\n{robot_response_A}\\n{b_debate_end}\"\n",
    "    talk(to_b, submit_button, user_input_element)\n",
    "    robot_response_B = store_talk_response('agentBmessage')    "
   ]
  },
  {
   "cell_type": "code",
   "execution_count": 46,
   "id": "5a8fa7c8-5772-4bf3-b8f8-4b112566912e",
   "metadata": {},
   "outputs": [
    {
     "name": "stderr",
     "output_type": "stream",
     "text": [
      "C:\\Users\\郭瑋 羽\\AppData\\Local\\Temp\\ipykernel_1888\\3699495490.py:11: DeprecationWarning: find_element_by_* commands are deprecated. Please use find_element() instead\n",
      "  submit_button = driver.find_element_by_css_selector('#sendbtn')\n",
      "C:\\Users\\郭瑋 羽\\AppData\\Local\\Temp\\ipykernel_1888\\3699495490.py:15: DeprecationWarning: find_elements_by_* commands are deprecated. Please use find_elements() instead\n",
      "  agent_elements = driver.find_elements_by_class_name(class_name)\n"
     ]
    }
   ],
   "source": [
    "# conclusion\n",
    "\n",
    "select.select_by_visible_text(\"Agent-A\")\n",
    "to_a = f\"{a_final_front}\\n{robot_response_B}\\n{a_final_end}\"\n",
    "talk(to_a, submit_button, user_input_element)\n",
    "robot_response_A = store_talk_response('agentAmessage')\n",
    "\n",
    "select.select_by_visible_text(\"Agent-B\")\n",
    "to_b = f\"{b_final_front}\\n{robot_response_A}\\n{b_final_end}\"\n",
    "talk(to_b, submit_button, user_input_element)\n",
    "robot_response_B = store_talk_response('agentBmessage')"
   ]
  },
  {
   "cell_type": "code",
   "execution_count": 47,
   "id": "76d2232f-e96a-46ac-88bc-175fbc60778f",
   "metadata": {},
   "outputs": [
    {
     "ename": "KeyboardInterrupt",
     "evalue": "",
     "output_type": "error",
     "traceback": [
      "\u001b[1;31m---------------------------------------------------------------------------\u001b[0m",
      "\u001b[1;31mKeyboardInterrupt\u001b[0m                         Traceback (most recent call last)",
      "Cell \u001b[1;32mIn[47], line 7\u001b[0m\n\u001b[0;32m      5\u001b[0m select\u001b[38;5;241m.\u001b[39mselect_by_visible_text(\u001b[38;5;124m\"\u001b[39m\u001b[38;5;124mAgent-A\u001b[39m\u001b[38;5;124m\"\u001b[39m)\n\u001b[0;32m      6\u001b[0m to_a \u001b[38;5;241m=\u001b[39m \u001b[38;5;124mf\u001b[39m\u001b[38;5;124m\"\u001b[39m\u001b[38;5;132;01m{\u001b[39;00ma_debate_front\u001b[38;5;132;01m}\u001b[39;00m\u001b[38;5;130;01m\\n\u001b[39;00m\u001b[38;5;132;01m{\u001b[39;00mrobot_response_B\u001b[38;5;132;01m}\u001b[39;00m\u001b[38;5;130;01m\\n\u001b[39;00m\u001b[38;5;132;01m{\u001b[39;00ma_debate_end\u001b[38;5;132;01m}\u001b[39;00m\u001b[38;5;124m\"\u001b[39m\n\u001b[1;32m----> 7\u001b[0m \u001b[43mtalk\u001b[49m\u001b[43m(\u001b[49m\u001b[43mto_a\u001b[49m\u001b[43m,\u001b[49m\u001b[43m \u001b[49m\u001b[43msubmit_button\u001b[49m\u001b[43m,\u001b[49m\u001b[43m \u001b[49m\u001b[43muser_input_element\u001b[49m\u001b[43m)\u001b[49m\n\u001b[0;32m      8\u001b[0m robot_response_A \u001b[38;5;241m=\u001b[39m store_talk_response(\u001b[38;5;124m'\u001b[39m\u001b[38;5;124magentAmessage\u001b[39m\u001b[38;5;124m'\u001b[39m)\n\u001b[0;32m     10\u001b[0m select\u001b[38;5;241m.\u001b[39mselect_by_visible_text(\u001b[38;5;124m\"\u001b[39m\u001b[38;5;124mAgent-B\u001b[39m\u001b[38;5;124m\"\u001b[39m)\n",
      "Cell \u001b[1;32mIn[7], line 10\u001b[0m, in \u001b[0;36mtalk\u001b[1;34m(user_input, submit_button, user_input_element)\u001b[0m\n\u001b[0;32m      8\u001b[0m user_input_element\u001b[38;5;241m.\u001b[39msend_keys(user_input)\n\u001b[0;32m      9\u001b[0m submit_button\u001b[38;5;241m.\u001b[39mclick()\n\u001b[1;32m---> 10\u001b[0m \u001b[43mwait_for_submit_button\u001b[49m\u001b[43m(\u001b[49m\u001b[43mdriver\u001b[49m\u001b[43m)\u001b[49m\n\u001b[0;32m     11\u001b[0m submit_button \u001b[38;5;241m=\u001b[39m driver\u001b[38;5;241m.\u001b[39mfind_element_by_css_selector(\u001b[38;5;124m'\u001b[39m\u001b[38;5;124m#sendbtn\u001b[39m\u001b[38;5;124m'\u001b[39m)\n\u001b[0;32m     12\u001b[0m submit_button\u001b[38;5;241m.\u001b[39mclick()\n",
      "Cell \u001b[1;32mIn[7], line 4\u001b[0m, in \u001b[0;36mwait_for_submit_button\u001b[1;34m(driver, timeout)\u001b[0m\n\u001b[0;32m      2\u001b[0m \u001b[38;5;28;01mdef\u001b[39;00m \u001b[38;5;21mwait_for_submit_button\u001b[39m(driver, timeout\u001b[38;5;241m=\u001b[39m\u001b[38;5;241m3600\u001b[39m):\n\u001b[0;32m      3\u001b[0m     submit_button_locator \u001b[38;5;241m=\u001b[39m (By\u001b[38;5;241m.\u001b[39mID, \u001b[38;5;124m'\u001b[39m\u001b[38;5;124msendbtn\u001b[39m\u001b[38;5;124m'\u001b[39m)\n\u001b[1;32m----> 4\u001b[0m     \u001b[43mWebDriverWait\u001b[49m\u001b[43m(\u001b[49m\u001b[43mdriver\u001b[49m\u001b[43m,\u001b[49m\u001b[43m \u001b[49m\u001b[43mtimeout\u001b[49m\u001b[43m)\u001b[49m\u001b[38;5;241;43m.\u001b[39;49m\u001b[43muntil\u001b[49m\u001b[43m(\u001b[49m\u001b[43mEC\u001b[49m\u001b[38;5;241;43m.\u001b[39;49m\u001b[43melement_to_be_clickable\u001b[49m\u001b[43m(\u001b[49m\u001b[43msubmit_button_locator\u001b[49m\u001b[43m)\u001b[49m\u001b[43m)\u001b[49m\n",
      "File \u001b[1;32m~\\AppData\\Local\\Programs\\Python\\Python311\\Lib\\site-packages\\selenium\\webdriver\\support\\wait.py:86\u001b[0m, in \u001b[0;36mWebDriverWait.until\u001b[1;34m(self, method, message)\u001b[0m\n\u001b[0;32m     84\u001b[0m     screen \u001b[38;5;241m=\u001b[39m \u001b[38;5;28mgetattr\u001b[39m(exc, \u001b[38;5;124m'\u001b[39m\u001b[38;5;124mscreen\u001b[39m\u001b[38;5;124m'\u001b[39m, \u001b[38;5;28;01mNone\u001b[39;00m)\n\u001b[0;32m     85\u001b[0m     stacktrace \u001b[38;5;241m=\u001b[39m \u001b[38;5;28mgetattr\u001b[39m(exc, \u001b[38;5;124m'\u001b[39m\u001b[38;5;124mstacktrace\u001b[39m\u001b[38;5;124m'\u001b[39m, \u001b[38;5;28;01mNone\u001b[39;00m)\n\u001b[1;32m---> 86\u001b[0m time\u001b[38;5;241m.\u001b[39msleep(\u001b[38;5;28mself\u001b[39m\u001b[38;5;241m.\u001b[39m_poll)\n\u001b[0;32m     87\u001b[0m \u001b[38;5;28;01mif\u001b[39;00m time\u001b[38;5;241m.\u001b[39mtime() \u001b[38;5;241m>\u001b[39m end_time:\n\u001b[0;32m     88\u001b[0m     \u001b[38;5;28;01mbreak\u001b[39;00m\n",
      "\u001b[1;31mKeyboardInterrupt\u001b[0m: "
     ]
    }
   ],
   "source": [
    "# if someone still not ready\n",
    "\n",
    "count = 0\n",
    "while((('I am ready to deliver my closing statements.' not in robot_response_A) or \\\n",
    "      ('I am ready to deliver my closing statements.' not in robot_response_B)) and count <= 3):  # 最多讓他沒準備好 3 次\n",
    "    count += 1\n",
    "    \n",
    "    select.select_by_visible_text(\"Agent-A\")\n",
    "    to_a = f\"{a_debate_front}\\n{robot_response_B}\\n{a_debate_end}\"\n",
    "    talk(to_a, submit_button, user_input_element)\n",
    "    robot_response_A = store_talk_response('agentAmessage')\n",
    "\n",
    "    select.select_by_visible_text(\"Agent-B\")\n",
    "    to_b = f\"{b_debate_front}\\n{robot_response_A}\\n{b_debate_end}\"\n",
    "    talk(to_b, submit_button, user_input_element)\n",
    "    robot_response_B = store_talk_response('agentBmessage')    \n",
    "\n",
    "    select.select_by_visible_text(\"Agent-A\")\n",
    "    to_a = f\"{a_final_front}\\n{robot_response_B}\\n{a_final_end}\"\n",
    "    talk(to_a, submit_button, user_input_element)\n",
    "    robot_response_A = store_talk_response('agentAmessage')\n",
    "    \n",
    "    select.select_by_visible_text(\"Agent-B\")\n",
    "    to_b = f\"{b_final_front}\\n{robot_response_A}\\n{b_final_end}\"\n",
    "    talk(to_b, submit_button, user_input_element)\n",
    "    robot_response_B = store_talk_response('agentBmessage')"
   ]
  },
  {
   "cell_type": "code",
   "execution_count": 48,
   "id": "45cc3500-67c1-4f7c-9da1-639533a8b338",
   "metadata": {},
   "outputs": [
    {
     "name": "stderr",
     "output_type": "stream",
     "text": [
      "C:\\Users\\郭瑋 羽\\AppData\\Local\\Temp\\ipykernel_1888\\3699495490.py:11: DeprecationWarning: find_element_by_* commands are deprecated. Please use find_element() instead\n",
      "  submit_button = driver.find_element_by_css_selector('#sendbtn')\n",
      "C:\\Users\\郭瑋 羽\\AppData\\Local\\Temp\\ipykernel_1888\\3699495490.py:15: DeprecationWarning: find_elements_by_* commands are deprecated. Please use find_elements() instead\n",
      "  agent_elements = driver.find_elements_by_class_name(class_name)\n"
     ]
    }
   ],
   "source": [
    "# final output\n",
    "\n",
    "select.select_by_visible_text(\"Agent-A\")\n",
    "talk(a_output, submit_button, user_input_element)\n",
    "robot_response_A = store_talk_response('agentAmessage')\n",
    "\n",
    "select.select_by_visible_text(\"Agent-B\")\n",
    "talk(b_output, submit_button, user_input_element)\n",
    "robot_response_B = store_talk_response('agentBmessage')"
   ]
  },
  {
   "cell_type": "markdown",
   "id": "28f5c27f-d2e3-4c1d-9bb3-a760a6372b71",
   "metadata": {
    "jp-MarkdownHeadingCollapsed": true
   },
   "source": [
    "### 匯出\n",
    "\n",
    "會下載一個文件檔"
   ]
  },
  {
   "cell_type": "code",
   "execution_count": 49,
   "id": "be06b5d7-c85a-4a8f-8f32-365d3aaaf81f",
   "metadata": {},
   "outputs": [
    {
     "name": "stderr",
     "output_type": "stream",
     "text": [
      "C:\\Users\\郭瑋 羽\\AppData\\Local\\Temp\\ipykernel_1888\\2221293826.py:1: DeprecationWarning: find_element_by_* commands are deprecated. Please use find_element() instead\n",
      "  select_element = driver.find_element_by_id('action')\n"
     ]
    }
   ],
   "source": [
    "select_element = driver.find_element_by_id('action')\n",
    "select = Select(select_element)\n",
    "select.select_by_visible_text(\"Export\")"
   ]
  },
  {
   "cell_type": "code",
   "execution_count": 50,
   "id": "e104f718-9b79-47c2-90fa-e6038d44a5ed",
   "metadata": {},
   "outputs": [
    {
     "name": "stderr",
     "output_type": "stream",
     "text": [
      "C:\\Users\\郭瑋 羽\\AppData\\Local\\Temp\\ipykernel_1888\\2892268131.py:2: DeprecationWarning: find_element_by_* commands are deprecated. Please use find_element() instead\n",
      "  user_input_element = driver.find_element_by_id('userinput')\n",
      "C:\\Users\\郭瑋 羽\\AppData\\Local\\Temp\\ipykernel_1888\\2892268131.py:5: DeprecationWarning: find_element_by_* commands are deprecated. Please use find_element() instead\n",
      "  submit_button = driver.find_element_by_id('sendbtn')  # 请替换为实际的提交按钮的ID\n"
     ]
    }
   ],
   "source": [
    "# \"The system requires you to enter some texts, but it would not affect the export process.\"\n",
    "user_input_element = driver.find_element_by_id('userinput')\n",
    "user_input_element.send_keys(\"Final!!!\")\n",
    "\n",
    "submit_button = driver.find_element_by_id('sendbtn') \n",
    "submit_button.click()"
   ]
  },
  {
   "cell_type": "markdown",
   "id": "a626673c-f765-4ac8-ae9e-0192cd482351",
   "metadata": {},
   "source": [
    "### 轉存 csv file"
   ]
  },
  {
   "cell_type": "code",
   "execution_count": 25,
   "id": "6f53f250-54a8-4879-ab61-2171b2636c80",
   "metadata": {},
   "outputs": [
    {
     "name": "stdout",
     "output_type": "stream",
     "text": [
      "A_1: Ethical implications and responsible use of large language models in education and research: Considering the potential biases, privacy concerns, and potential harm associated with unregulated use, it is crucial to implement regulations to ensure the responsible and ethical use of large language models in education and research. Striking a balance between promoting innovation and preventing harm is essential, and regulations provide a consistent framework to address these ethical implications effectively.\n",
      "A_2: Privacy concerns, data usage, and safeguarding personal information in the utilization of large language models: While industry-driven best practices and self-regulation are valuable, regulations are necessary to establish standardized guidelines and safeguards for protecting personal information. By implementing regulations, individuals' privacy rights can be consistently protected, ensuring responsible data usage and handling in the context of large language models.\n",
      "A_3: Balancing innovation, risks, and regulations in the use of large language models: Regulations provide a necessary framework to manage the potential risks associated with large language models while fostering a conducive environment for innovation. Striking a balance between innovation and regulation is crucial, as regulations can complement responsible practices, ensuring that the development and use of large language models are in line with ethical considerations and societal values.\n",
      "A_4: Fairness, biases, and accurate representation in the outputs of large language models: While efforts to address biases and ensure fairness can be fostered voluntarily, regulations play a vital role in enforcing standards and accountability. Implementing regulations promotes the mitigation of biases and accurate representation in the outputs of large language models, safeguarding against discriminatory outcomes and ensuring equitable results in education and research.\n",
      "A_5: Human expertise, oversight, and collaboration in conjunction with large language models: Recognizing the importance of human expertise, responsible oversight, and collaboration is crucial for optimizing the benefits of large language models in education and research. Regulations can provide guidelines that encourage collaboration, foster interdisciplinary approaches, and emphasize the value of human expertise, ensuring an effective amalgamation of human and machine intelligence.\n",
      "A_c: In conclusion, regulating the use of large language models in education and research is essential to address ethical considerations, protect privacy, manage risks, promote fairness, and maximize the benefits derived from collaborating with these models. Regulations provide the necessary foundation for responsible and ethical usage, ensuring that the potential of large language models is harnessed while safeguarding individuals' rights and maintaining the integrity of educational and research practices.\"\n"
     ]
    }
   ],
   "source": [
    "import re\n",
    "\n",
    "# 使用正则表达式提取以数字和句点开头的部分和 \"In conclusion\" 以后的部分\n",
    "matches = re.findall(r'\\b\\d+\\.\\s(.*?)(?=\\s\\d+\\.\\s|$)', robot_response_A)\n",
    "A_1, A_2, A_3, A_4, A_5_and_c = matches[:5]\n",
    "A_c = \"In conclusion, \" + robot_response_A.split('In conclusion, ')[1] if 'In conclusion, ' in robot_response_A else ''\n",
    "A_5 = A_5_and_c.split('In conclusion, ')[0].strip() if 'In conclusion, ' in A_5_and_c else A_5_and_c.strip()\n",
    "\n",
    "\n",
    "matches = re.findall(r'\\b\\d+\\.\\s(.*?)(?=\\s\\d+\\.\\s|$)', robot_response_B)\n",
    "B_1, B_2, B_3, B_4, B_5_and_c = matches[:5]\n",
    "B_c = \"In conclusion, \" + robot_response_B.split('In conclusion, ')[1] if 'In conclusion, ' in robot_response_B else ''\n",
    "B_5 = B_5_and_c.split('In conclusion, ')[0].strip() if 'In conclusion, ' in B_5_and_c else B_5_and_c.strip()\n",
    "\n",
    "\n",
    "# 使用字符串切片获取冒号前的部分\n",
    "Topic_1 = A_1.split(\":\")[0].strip()\n",
    "Topic_2 = A_2.split(\":\")[0].strip()\n",
    "Topic_3 = A_3.split(\":\")[0].strip()\n",
    "Topic_4 = A_4.split(\":\")[0].strip()\n",
    "Topic_5 = A_5.split(\":\")[0].strip()\n",
    "\n",
    "\n",
    "A_1_after_colon = A_1.split(\":\")[1].strip()\n",
    "A_2_after_colon = A_2.split(\":\")[1].strip()\n",
    "A_3_after_colon = A_3.split(\":\")[1].strip()\n",
    "A_4_after_colon = A_4.split(\":\")[1].strip()\n",
    "A_5_after_colon = A_5.split(\":\")[1].strip()\n",
    "\n",
    "B_1_after_colon = B_1.split(\":\")[1].strip()\n",
    "B_2_after_colon = B_2.split(\":\")[1].strip()\n",
    "B_3_after_colon = B_3.split(\":\")[1].strip()\n",
    "B_4_after_colon = B_4.split(\":\")[1].strip()\n",
    "B_5_after_colon = B_5.split(\":\")[1].strip()\n"
   ]
  },
  {
   "cell_type": "code",
   "execution_count": 33,
   "id": "975b6f59-c6d8-4b69-8205-7313a8764084",
   "metadata": {},
   "outputs": [
    {
     "name": "stdout",
     "output_type": "stream",
     "text": [
      "CSV 文件已生成: output.csv\n"
     ]
    }
   ],
   "source": [
    "# 创建一个包含所有信息的列表\n",
    "data = [\n",
    "    [Topic_1, A_1_after_colon, B_1_after_colon],\n",
    "    [Topic_2, A_2_after_colon, B_2_after_colon],\n",
    "    [Topic_3, A_3_after_colon, B_3_after_colon],\n",
    "    [Topic_4, A_4_after_colon, B_4_after_colon],\n",
    "    [Topic_5, A_5_after_colon, B_5_after_colon], \n",
    "    [\"conclusion\", A_c, B_c]\n",
    "]\n",
    "\n",
    "# 指定 CSV 文件的路径\n",
    "csv_file_path = f\"{name}.csv\"\n",
    "\n",
    "# 将信息写入 CSV 文件\n",
    "with open(csv_file_path, mode='w', newline='', encoding='utf-8') as file:\n",
    "    writer = csv.writer(file)\n",
    "    \n",
    "    # 写入标题行\n",
    "    writer.writerow([\"topic\", \"Agent-A\", \"Agent-B\"])\n",
    "    \n",
    "    # 写入数据\n",
    "    for row in data:\n",
    "        writer.writerow(row)\n",
    "\n",
    "print(f\"CSV 文件已生成: {csv_file_path}\")"
   ]
  },
  {
   "cell_type": "markdown",
   "id": "2e722880-1b93-4f9b-bafb-c0d309e8b6b2",
   "metadata": {},
   "source": [
    "### Dirver shut down"
   ]
  },
  {
   "cell_type": "code",
   "execution_count": null,
   "id": "d9063ca2-1e75-43fb-a4c4-a62ea33ffa6e",
   "metadata": {},
   "outputs": [],
   "source": [
    "driver.quit()"
   ]
  },
  {
   "cell_type": "markdown",
   "id": "61bc77b5-91f1-493a-990e-b3044cbf8f25",
   "metadata": {
    "jp-MarkdownHeadingCollapsed": true
   },
   "source": [
    "### Others"
   ]
  },
  {
   "cell_type": "code",
   "execution_count": 53,
   "id": "7d49bd23-f568-4f65-b5c8-e47585960bce",
   "metadata": {},
   "outputs": [
    {
     "data": {
      "text/plain": [
       "\"\\n# 输出网页源代码\\nhtml_source = driver.page_source\\nwith open('page_source.html', 'w', encoding='utf-8') as file:\\n    file.write(html_source)\\n\""
      ]
     },
     "execution_count": 53,
     "metadata": {},
     "output_type": "execute_result"
    }
   ],
   "source": [
    "# 保存資訊\n",
    "\n",
    "# 截图保存\n",
    "# driver.save_screenshot('screenshot.png')\n",
    "\n",
    "\"\"\"\n",
    "# 输出网页源代码\n",
    "html_source = driver.page_source\n",
    "with open('page_source.html', 'w', encoding='utf-8') as file:\n",
    "    file.write(html_source)\n",
    "\"\"\"\n"
   ]
  }
 ],
 "metadata": {
  "kernelspec": {
   "display_name": "Python 3 (ipykernel)",
   "language": "python",
   "name": "python3"
  },
  "language_info": {
   "codemirror_mode": {
    "name": "ipython",
    "version": 3
   },
   "file_extension": ".py",
   "mimetype": "text/x-python",
   "name": "python",
   "nbconvert_exporter": "python",
   "pygments_lexer": "ipython3",
   "version": "3.11.5"
  }
 },
 "nbformat": 4,
 "nbformat_minor": 5
}
